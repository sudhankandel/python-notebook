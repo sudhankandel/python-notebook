{
 "cells": [
  {
   "cell_type": "markdown",
   "metadata": {},
   "source": [
    "# Python Basics\n",
    "## How to Print in Python \n",
    "- print variable\n",
    "- print blank line\n",
    "\n"
   ]
  },
  {
   "cell_type": "code",
   "execution_count": null,
   "metadata": {},
   "outputs": [],
   "source": [
    "print('Hello world') #print in python variable"
   ]
  },
  {
   "cell_type": "code",
   "execution_count": null,
   "metadata": {},
   "outputs": [],
   "source": [
    "print('this is first line.\\nthis is second line')# break line using \\n"
   ]
  },
  {
   "cell_type": "code",
   "execution_count": null,
   "metadata": {},
   "outputs": [],
   "source": [
    "print('hello')\n",
    "print(8*'\\n') #print blank space\n",
    "print('world')"
   ]
  },
  {
   "cell_type": "code",
   "execution_count": null,
   "metadata": {},
   "outputs": [],
   "source": [
    "print('c:file\\name')\n",
    "print(r'c:fie\\name')"
   ]
  },
  {
   "cell_type": "markdown",
   "metadata": {},
   "source": [
    "## python Variables: Declare, Concatenate, Global & Local\n",
    "- A Python variable is a reserved memory location to store values. In other words, a variable in a python program  gives data to the computer for processing.Every value in Python has a datatype. Different data types in Python are Numbers, List, Tuple, Strings, Dictionary, etc. Variables can be declared by any name or even alphabets like a, aa, abc, etc.\n",
    "\n",
    "### In This Section We Learn\n",
    "- How to Declare and use a Variable\n",
    "- Re-declare a Variable\n",
    "- Concatenate Variables\n",
    "- Local & Global Variables\n",
    "- Delete a variable "
   ]
  },
  {
   "cell_type": "markdown",
   "metadata": {},
   "source": [
    "#### Declare Variable and use a variable\n",
    "- in python we are normally declare variable by assign value to variable\n",
    "- variable must start with alphabate and may support character "
   ]
  },
  {
   "cell_type": "code",
   "execution_count": null,
   "metadata": {},
   "outputs": [],
   "source": [
    "a=100 #declare variable\n",
    "print(a)"
   ]
  },
  {
   "cell_type": "code",
   "execution_count": null,
   "metadata": {},
   "outputs": [],
   "source": [
    "s=9090 #declare variable S\n",
    "print(s)\n",
    "s='Hello World' # Re-declare variable S\n",
    "print(s)"
   ]
  },
  {
   "cell_type": "markdown",
   "metadata": {},
   "source": [
    "#### Concatenate Variable\n",
    "- Unlike Java, which concatenates number with string without declaring number as string, Python requires declaring the number as string otherwise it will show a TypeError\n"
   ]
  },
  {
   "cell_type": "code",
   "execution_count": null,
   "metadata": {},
   "outputs": [],
   "source": [
    "a=1\n",
    "b='hello'\n",
    "print(a+b) # a is numerical and b is string datatype doesnot match so error is shown"
   ]
  },
  {
   "cell_type": "code",
   "execution_count": null,
   "metadata": {},
   "outputs": [],
   "source": [
    "print(str(a)+b) # Once the integer is declared as string, it can concatenate both"
   ]
  },
  {
   "cell_type": "markdown",
   "metadata": {},
   "source": [
    "#### Local & Global Variables\n",
    "- In Python when you want to use the same variable for rest of your program or module you declare it a global variable, while if you want to use the variable in a specific function or method, you use a local variable. "
   ]
  },
  {
   "cell_type": "code",
   "execution_count": null,
   "metadata": {},
   "outputs": [],
   "source": [
    "s=101\n",
    "print(s)\n",
    "def Hello():\n",
    "    s='Hello world' # here s is local variable\n",
    "    print(s)\n",
    "Hello()\n",
    "print(s)"
   ]
  },
  {
   "cell_type": "code",
   "execution_count": null,
   "metadata": {},
   "outputs": [],
   "source": [
    "s=101\n",
    "print(s)\n",
    "def Hello():\n",
    "    global s # declare s as a Global variable\n",
    "    s='Hello World' #s is redeclare\n",
    "    print(s)\n",
    "Hello()\n",
    "print(s)"
   ]
  },
  {
   "cell_type": "markdown",
   "metadata": {},
   "source": [
    "#### Delete a variable\n",
    "- You can also delete variable using the command del \"variable name\".\n",
    "\n",
    "- In the example below, we deleted variable f, and when we proceed to print it, we get error \"variable name is not defined\" which means you have deleted the variable. "
   ]
  },
  {
   "cell_type": "code",
   "execution_count": null,
   "metadata": {},
   "outputs": [],
   "source": [
    "f=10 #declare variable\n",
    "print(f)\n",
    "del f # delete variable\n",
    "print(f)"
   ]
  },
  {
   "cell_type": "markdown",
   "metadata": {},
   "source": [
    "# Python Data Structure\n",
    "- Python STRING\n",
    "- Python TUPLE \n",
    "- Python LIST\n",
    "- python SET\n",
    "- Python DICTIONARY\n",
    "- Python OPERATIONS\n",
    "- Python FUNCTIONS\n",
    "## Python Strings\n",
    "- Accessing Values in Strings \n",
    "- Various String Operators \n",
    "- Python String replace() Method \n",
    "- Changing upper and lower case strings  \n",
    "- Using \"join\" function for the string \n",
    "- Reversing String\n",
    "- Split Strings "
   ]
  },
  {
   "cell_type": "markdown",
   "metadata": {},
   "source": [
    "### Accessing Values in Strings\n",
    "- Python does not support a character type, these are treated as strings of length one, also considered as substring. We use square brackets for slicing along with the index or indices to obtain a substring. "
   ]
  },
  {
   "cell_type": "code",
   "execution_count": null,
   "metadata": {},
   "outputs": [],
   "source": [
    "var1='hello'\n",
    "var2='world'\n",
    "print (\"var1[0]:\",var1[0])\n",
    "print (\"var2[1:5]:\",var2[1:3])"
   ]
  },
  {
   "cell_type": "markdown",
   "metadata": {},
   "source": [
    "### Various String Operators\n",
    "- There are various string operators that can be used in different ways like concatenating different string.\n",
    "- <b>operation</b>:' [] '  <b> Description </b>: Slice- it gives the letter from the given index <b>Example</b>: a[1] will give \"e\" from the word Hello as such ( 0=H, 1=e, 2=l, 3=l and 4=o)\n",
    "- <b> Operation</b> : ' [:] ' <b> Description </b>: \tRange slice-it gives the characters from the given range <b> Example</b>: x [1:3] it will give \"el\" from the word Hello. Remember it will not consider 0 which is H, it will consider word after that is el. \n",
    "- <b> Operation</b> :' in ' <b> Description</b> : Membership-returns true if a letter exist in the given string  <b> Example</b> : e is present in word Hello and hence it will give 1 (True)\n",
    "- <b> Operation</b>  : ' not in ' <b> Description</b>: \tMembership-returns true if a letter exist is not in the given string <b> Example</b> : p not present in word Hello and hence it will give 1\n",
    "- <b> Operation</b>: ' + ' <b> Description</b>: It concatenates 2 strings <b> Example</b>: It concatenate strings and gives the result\n",
    "-  <b> Operation</b>: ' * ' <b> Description</b> : Repeat <b> Example</b> : \tIt prints the character twice."
   ]
  },
  {
   "cell_type": "code",
   "execution_count": null,
   "metadata": {},
   "outputs": [],
   "source": [
    "var1='hello'\n",
    "print(var1[1]) #slice\n",
    "print(var1[1:3])# Range Slice\n",
    "print('e' in var1) #in\n",
    "print('p' not in var1) # not in\n",
    "var2='world'\n",
    "print(var1+var2) # add\n",
    "print(2*var1) # *"
   ]
  },
  {
   "cell_type": "markdown",
   "metadata": {},
   "source": [
    "###  String replace() Method\n",
    "- The method replace() returns a copy of the string in which the values of old string have been replaced with the new value. "
   ]
  },
  {
   "cell_type": "code",
   "execution_count": null,
   "metadata": {},
   "outputs": [],
   "source": [
    "oldstring = 'I like you' \n",
    "newstring = oldstring.replace('like', 'love')\n",
    "print(newstring)"
   ]
  },
  {
   "cell_type": "markdown",
   "metadata": {},
   "source": [
    "### Changing upper and lower case strings\n",
    "- In Python, you can even change the string to upper case or lower case.by calling upper() and lower() function"
   ]
  },
  {
   "cell_type": "code",
   "execution_count": null,
   "metadata": {},
   "outputs": [],
   "source": [
    "string=\"hello world\"\n",
    "print(string.upper())\n",
    "print(string.capitalize())\n",
    "string=\"HELLO WORLD\"\n",
    "print(string.lower())\n"
   ]
  },
  {
   "cell_type": "markdown",
   "metadata": {},
   "source": [
    "### Using \"join\" function for the string \n",
    "- The join function is a more flexible way for concatenating string. With join function, you can add any character into the string. "
   ]
  },
  {
   "cell_type": "code",
   "execution_count": null,
   "metadata": {},
   "outputs": [],
   "source": [
    "print(\":\".join(\"Python\"))"
   ]
  },
  {
   "cell_type": "markdown",
   "metadata": {},
   "source": [
    "### Reversing String and Split Strings\n",
    "- By using the reverse function, you can reverse the string. For example, if we have string \"12345\" and then if you apply reverse function for this string then get output as \"54321\". \n",
    "- Split strings is another function that can be applied in Python let see for string \"hello how are you?\". First here we will split the string by using the command word.split and get the result as [\"hello\",\"how\",\"are\",\"you?\"]."
   ]
  },
  {
   "cell_type": "code",
   "execution_count": null,
   "metadata": {},
   "outputs": [],
   "source": [
    "string=\"12345\" \n",
    "print(''.join(reversed(string)))# Reversing String"
   ]
  },
  {
   "cell_type": "code",
   "execution_count": null,
   "metadata": {},
   "outputs": [],
   "source": [
    "string=\"hello how are you?\"\n",
    "print(string.split(\" \"))"
   ]
  },
  {
   "cell_type": "markdown",
   "metadata": {},
   "source": [
    "## Python Tuple\n",
    "- A tuple is just like a list of a sequence of immutable python objects. The difference between list and tuple is that list are declared in square brackets and can be changed while tuple is declared in parentheses and cannot be changed. However, you can take portions of existing tuples to make new tuples. \n",
    " \n",
    "    - Packing and Unpacking\n",
    "    - Comparing tuples\n",
    "    - Deleting Tuples\n",
    "    - Slicing of Tuple\n",
    "    - Built-in functions with Tuple\n",
    "    - Advantages of tuple over list\n"
   ]
  },
  {
   "cell_type": "code",
   "execution_count": null,
   "metadata": {},
   "outputs": [],
   "source": [
    "Tup = ('Jan','feb','march') #syntax to create tupple\n",
    "print(Tup)\n",
    "Tup=('jan',)# writing tuple for a single value, you need to include a comma\n",
    "print(Tup)"
   ]
  },
  {
   "cell_type": "markdown",
   "metadata": {},
   "source": [
    "### Packing and Unpacking\n",
    "- In packing, we place value into a new tuple while in unpacking we extract those values back into variables. "
   ]
  },
  {
   "cell_type": "code",
   "execution_count": null,
   "metadata": {},
   "outputs": [],
   "source": [
    "x = (\"Mpercept\", 20, \"Education\")    # tuple packing\n",
    "(company, emp, profile) = x    # tuple unpacking\n",
    "print(company)\n",
    "print(emp)\n",
    "print(profile)"
   ]
  },
  {
   "cell_type": "markdown",
   "metadata": {},
   "source": [
    "### Comparing tuples\n",
    "- A comparison operator in Python can work with tuples. \n",
    "- The comparison starts with a first element of each tuple. If they do not compare to =,< or > then it proceed to the second element and so on. "
   ]
  },
  {
   "cell_type": "code",
   "execution_count": null,
   "metadata": {},
   "outputs": [],
   "source": [
    "a=(5,6)\n",
    "b=(1,7)\n",
    "if (a>b):\n",
    "    print(\"a is bigger\")\n",
    "else: \n",
    "    print(\"b is bigger\")"
   ]
  },
  {
   "cell_type": "markdown",
   "metadata": {},
   "source": [
    "### Deleting Tuples\n",
    "- Tuples are immutable and cannot be deleted. You cannot delete or remove items from a tuple. But deleting tuple entirely is possible by using the keyword  del"
   ]
  },
  {
   "cell_type": "code",
   "execution_count": null,
   "metadata": {},
   "outputs": [],
   "source": [
    "a=(5,6,7)\n",
    "print(a)\n",
    "del a\n",
    "print(a)"
   ]
  },
  {
   "cell_type": "markdown",
   "metadata": {},
   "source": [
    "### Slicing of Tuple\n",
    "- To fetch specific sets of sub-elements from tuple or list, we use this unique function called slicing. Slicing is not only applicable to tuple but also for array and list. "
   ]
  },
  {
   "cell_type": "code",
   "execution_count": null,
   "metadata": {},
   "outputs": [],
   "source": [
    "x = (\"a\", \"b\",\"c\", \"d\", \"e\")\n",
    "print(x[2:4])"
   ]
  },
  {
   "cell_type": "markdown",
   "metadata": {},
   "source": [
    "## Python List\n",
    "- A list is a collection which is ordered and changeable. In Python lists are written with square brackets.\n",
    "    - Access Items\n",
    "    - Negative Indexing\n",
    "    - Range of Indexes\n",
    "    - Range of Negative Indexes\n",
    "    - Change Item Value\n",
    "    - Loop Through a List\n",
    "    - if else  in list\n",
    "    - List Length\n",
    "    - Add Items\n",
    "    - Remove Item\n",
    "    - Copy a List\n",
    "    - Join Two Lists\n",
    "    "
   ]
  },
  {
   "cell_type": "markdown",
   "metadata": {},
   "source": [
    "### Access Items and Negative Indexing\n",
    "- in python list data are acces through the index number\n",
    "- Example list1=[1,2,3,4] if you want to acces 3 then list1[2] to get third item from list\n",
    "- index number start from 0 to len(list)-1\n",
    "- Negative indexing means beginning from the end, -1 refers to the last item, -2 refers to the second last item etc."
   ]
  },
  {
   "cell_type": "code",
   "execution_count": null,
   "metadata": {},
   "outputs": [],
   "source": [
    "thislist = [\"apple\", \"banana\", \"cherry\"]\n",
    "print(thislist[1])\n",
    "print(thislist[0])\n",
    "print(\"This is access list item from negative index :\"+ thislist[-1])"
   ]
  },
  {
   "cell_type": "markdown",
   "metadata": {},
   "source": [
    "### Range of Indexes and Negative Range Index\n",
    "- You can specify a range of indexes by specifying where to start and where to end the range.\n",
    "- When specifying a range, the return value will be a new list with the specified items.\n",
    "- index number is staring from 0 so if you sice between 1:5 you get value between 1 to 4 index value\n",
    "- negative range index is same as range index but it's treated operation from end of list"
   ]
  },
  {
   "cell_type": "code",
   "execution_count": null,
   "metadata": {},
   "outputs": [],
   "source": [
    "thislist = [\"apple\", \"banana\", \"cherry\", \"orange\", \"kiwi\", \"melon\", \"mango\"]\n",
    "print(thislist[1:5])\n",
    "print(thislist[:4])# slice the list from 0 to 3 index\n",
    "print(thislist[2:]) # slice the list begining from 2 index to all\n",
    "print(thislist[-4:-1])"
   ]
  },
  {
   "cell_type": "markdown",
   "metadata": {},
   "source": [
    "### Change Item Value\n",
    "-To change the value of a specific item, refer to the index number\n"
   ]
  },
  {
   "cell_type": "code",
   "execution_count": null,
   "metadata": {},
   "outputs": [],
   "source": [
    "thislist = [\"apple\", \"banana\", \"cherry\"]\n",
    "thislist[1] = \"blackcurrant\"\n",
    "print(thislist)"
   ]
  },
  {
   "cell_type": "markdown",
   "metadata": {},
   "source": [
    "### Loop Through a List\n",
    "- You can loop through the list items by using a for loop"
   ]
  },
  {
   "cell_type": "code",
   "execution_count": null,
   "metadata": {},
   "outputs": [],
   "source": [
    "thislist = [\"apple\", \"banana\", \"cherry\"]\n",
    "for x in thislist:\n",
    "  print(x) "
   ]
  },
  {
   "cell_type": "markdown",
   "metadata": {},
   "source": [
    "### if else  in list\n",
    "- To determine if a specified item is present in a list use the in keyword"
   ]
  },
  {
   "cell_type": "code",
   "execution_count": null,
   "metadata": {},
   "outputs": [],
   "source": [
    " thislist = [\"apple\", \"banana\", \"cherry\"]\n",
    "if \"apple\" in thislist:\n",
    "    print(\"Yes, 'apple' is in the fruits list\") \n",
    "else:\n",
    "    print('No','apple is not in the fruits list')"
   ]
  },
  {
   "cell_type": "markdown",
   "metadata": {},
   "source": [
    "### List Length, Add Items and Remove Item\n",
    "- To determine how many items a list has, use the len() function\n",
    "- To add an item to the end of the list, use the append() method\n",
    "- To add an item at the specified index, use the insert() method\n",
    "- There are several methods to remove items from a list\n",
    "   - The remove() method removes the specified item\n",
    "   - The pop() method removes the specified index, (or the last item if index is not specified)\n",
    "   - The del keyword removes the specified index\n",
    "   - The clear() method empties the list"
   ]
  },
  {
   "cell_type": "code",
   "execution_count": null,
   "metadata": {},
   "outputs": [],
   "source": [
    "thislist = [\"apple\", \"banana\", \"cherry\"]\n",
    "print(len(thislist))# find the length of list\n",
    "thislist.append(\"orange\") # append method to add item in list\n",
    "print(thislist)\n",
    "thislist.insert(1, \"orange\") # add 'orange' in index 1\n",
    "print(thislist)\n",
    "thislist.remove(\"banana\") # remove 'banana' from thislist\n",
    "print(thislist)\n",
    "thislist.pop() # remove last item from list\n",
    "print(thislist)\n",
    "del thislist[1] # remove 1 index item from list\n",
    "print(thislist)\n",
    "thislist.clear()# clear method clear the whole list\n",
    "print(thislist)"
   ]
  },
  {
   "cell_type": "markdown",
   "metadata": {},
   "source": [
    "### Copy a List and  Join Two Lists\n",
    "- You cannot copy a list simply by typing list2 = list1, because: list2 will only be a reference to list1, and changes made in list1 will automatically also be made in list2.\n",
    "- There are ways to make a copy, one way is to use the built-in List method copy().\n",
    "- There are several ways to join, or concatenate, two or more lists in Python.\n",
    "    - One of the easiest ways are by using the + operator.\n",
    "    - Another way to join two lists are by appending all the items from list2 into list1, one by one\n",
    "    - you can use the extend() method, which purpose is to add elements from one list to another list"
   ]
  },
  {
   "cell_type": "code",
   "execution_count": null,
   "metadata": {},
   "outputs": [],
   "source": [
    "thislist = [\"apple\", \"banana\", \"cherry\"]\n",
    "mylist1 = thislist.copy() # copy list by calling copy method\n",
    "print(mylist)\n",
    "mylist2 = list(thislist) # mannual copy list\n",
    "print(mylist2)"
   ]
  },
  {
   "cell_type": "code",
   "execution_count": null,
   "metadata": {},
   "outputs": [],
   "source": [
    "list1 = [\"a\", \"b\" , \"c\"]\n",
    "list2 = [1, 2, 3]\n",
    "list3 = list1 + list2 # join list by using + operation\n",
    "print(list3) \n",
    "for i in list2:  # appending all the items from list2 into list1,\n",
    "    list1.append(i)\n",
    "print(list1)\n",
    "list1.extend(list2)# by using extend() method\n",
    "print(list1)"
   ]
  },
  {
   "cell_type": "markdown",
   "metadata": {},
   "source": [
    "## python Set\n",
    "- Python’s built-in set type has the following characteristics:\n",
    "    - Sets are unordered.\n",
    "    - Set elements are unique. Duplicate elements are not allowed.\n",
    "    - A set itself may be modified, but the elements contained in the set must be of an immutable type.\n",
    "- <b> In this section we will learn following topic</b>\n",
    "    - Access Items\n",
    "    - Change Items\n",
    "    - Remove Item\n",
    "    - Join Two Sets\n",
    "    \n"
   ]
  },
  {
   "cell_type": "code",
   "execution_count": null,
   "metadata": {},
   "outputs": [],
   "source": [
    "myset = {\"apple\", \"banana\", \"cherry\"} # example to create set\n",
    "print(myset) "
   ]
  },
  {
   "cell_type": "markdown",
   "metadata": {},
   "source": [
    "### Access Items\n",
    "- You cannot access items in a set by referring to an index, since sets are unordered the items has no index.\n",
    "But you can loop through the set items using a for loop, or ask if a specified value is present in a set, by using the in keyword."
   ]
  },
  {
   "cell_type": "code",
   "execution_count": null,
   "metadata": {},
   "outputs": [],
   "source": [
    "for i in myset: # access set item using for loop\n",
    "    print(i)\n",
    "print(\"banana\" in myset)  #access set item using in keyword"
   ]
  },
  {
   "cell_type": "markdown",
   "metadata": {},
   "source": [
    "### Change Items\n",
    "- Once a set is created, you cannot change its items, but you can add new items.\n",
    "- To add one item to a set use the add() method.\n",
    "- To add more than one item to a set use the update() method."
   ]
  },
  {
   "cell_type": "code",
   "execution_count": null,
   "metadata": {},
   "outputs": [],
   "source": [
    "myset.add(\"orange\") #use add() method to add item in set\n",
    "print(myset)\n",
    "thisset = {\"apple\", \"banana\", \"cherry\"}\n",
    "thisset.update([\"orange\", \"mango\", \"grapes\"]) #use update method to add multiple item in set\n",
    "print(thisset)"
   ]
  },
  {
   "cell_type": "markdown",
   "metadata": {},
   "source": [
    "### Remove Item and Join Two Sets\n",
    "- To remove an item in a set, use the remove(), or the discard() method.\n",
    "- You can also use the pop(), method to remove an item, but this method will remove the last item. Remember that sets are unordered, so you will not know what item that gets removed.\n",
    "- The clear() method empties the set\n",
    "- <b>There are several ways to join two or more sets in Python.</b>\n",
    "    - You can use the union() method that returns a new set containing all items from both sets, or the update() method that inserts all the items from one set into another:"
   ]
  },
  {
   "cell_type": "code",
   "execution_count": null,
   "metadata": {},
   "outputs": [],
   "source": [
    "thisset.remove(\"banana\") # using remove() method to remove item from set\n",
    "print(thisset)\n",
    "thisset.discard(\"orange\") # discard() method to remove item from set\n",
    "print(thisset)\n",
    "thisset.pop() # pop method remove random item from set\n",
    "print(thisset)"
   ]
  },
  {
   "cell_type": "code",
   "execution_count": null,
   "metadata": {},
   "outputs": [],
   "source": [
    "set1 = {\"a\", \"b\" , \"c\"}\n",
    "set2 = {1, 2, 3}\n",
    "set1.update(set2)\n",
    "print(set1)\n",
    "set1.union(set2)\n",
    "print(set1)"
   ]
  },
  {
   "cell_type": "markdown",
   "metadata": {},
   "source": [
    "### Python Dictionaries\n",
    "Dictionaries are another example of a data structure. A dictionary is used to map or associate things you want to store the keys you need to get them. A dictionary in Python is just like a dictionary in the real world. Python Dictionary are defined into two elements Keys and Values.\n",
    "   - Keys will be a single element\n",
    "   - Values can be a list or list within a list, numbers, etc.\n",
    "   \n",
    "in this section we will learn following topic\n",
    " - Accessing Items\n",
    " - Change Values\n",
    " - Loop Through a Dictionary\n",
    " - Check if Key Exists\n",
    " - Adding Items\n",
    " - Removing Items\n",
    " - Copy a Dictionary\n",
    " - Nested Dictionaries\n",
    " - The dict() Constructor"
   ]
  },
  {
   "cell_type": "code",
   "execution_count": null,
   "metadata": {},
   "outputs": [],
   "source": [
    "thisdict =\t{\n",
    "  \"brand\": \"Ford\",\n",
    "  \"model\": \"Mustang\",\n",
    "  \"year\": 1964\n",
    "}\n",
    "print(thisdict)"
   ]
  },
  {
   "cell_type": "markdown",
   "metadata": {},
   "source": [
    "### Accessing Items and Change Value\n",
    "- You can access the items of a dictionary by referring to its key name, inside square brackets.\n",
    "- There is also a method called get() that will give you the same result.\n",
    "- You can change the value of a specific item by referring to its key name"
   ]
  },
  {
   "cell_type": "code",
   "execution_count": null,
   "metadata": {},
   "outputs": [],
   "source": [
    "print(thisdict)\n",
    "print(thisdict['model']) # access data by key name\n",
    "print(thisdict.get(\"year\")) # access data by using get() method\n",
    "thisdict[\"year\"] = 2018 # Change the \"year\" to 2018\n",
    "print(thisdict)"
   ]
  },
  {
   "cell_type": "markdown",
   "metadata": {},
   "source": [
    "### Loop Through a Dictionary\n",
    "You can loop through a dictionary by using a for loop. When looping through a dictionary, the return value are the keys of the dictionary, but there are methods to return the values as well.\n",
    "- You can also use the values() function to return values of a dictionary\n",
    "- Loop through both keys and values, by using the items() function\n",
    "-"
   ]
  },
  {
   "cell_type": "code",
   "execution_count": null,
   "metadata": {},
   "outputs": [],
   "source": [
    "for x in thisdict: \n",
    "    print('keys:'+x) # Print all key names in the dictionary, one by one\n",
    "    print('values: '+str(thisdict[x])) # Print all values in the dictionary, one by one\n"
   ]
  },
  {
   "cell_type": "code",
   "execution_count": null,
   "metadata": {},
   "outputs": [],
   "source": [
    "for x in thisdict.keys(): # by calling keys() method to access keys from dictionary\n",
    "    print('keys: '+x)\n",
    "for x in thisdict.values():\n",
    "    print('valuses: '+str(x))# by calling values() method to access value from dictionary"
   ]
  },
  {
   "cell_type": "markdown",
   "metadata": {},
   "source": [
    "### Check if Key Exists\n",
    "- To determine if a specified key is present in a dictionary use the in keyword"
   ]
  },
  {
   "cell_type": "code",
   "execution_count": null,
   "metadata": {},
   "outputs": [],
   "source": [
    "if \"model\" in thisdict: # Check if \"model\" is present in the dictionary\n",
    "    print(\"Yes, 'model' is one of the keys in the thisdict dictionary\")\n",
    "else:\n",
    "    print(\"No, key isnot exist in above dictionary\")\n"
   ]
  },
  {
   "cell_type": "markdown",
   "metadata": {},
   "source": [
    "### Adding and Removing items\n",
    "- Adding an item to the dictionary is done by using a new index key and assigning a value to it\n",
    "- There are several methods to remove items from a dictionary\n",
    "    - The pop() method removes the item with the specified key name\n",
    "    - The popitem() method removes the last inserted item\n",
    "    - The del keyword removes the item with the specified key name\n",
    "    - The clear() method empties the dictionary"
   ]
  },
  {
   "cell_type": "code",
   "execution_count": null,
   "metadata": {},
   "outputs": [],
   "source": [
    "print(thisdict)\n",
    "thisdict[\"color\"] = \"red\"\n",
    "thisdict.pop(\"model\")# pop() method to remove item from dictionary\n",
    "print(thisdict) \n",
    "thisdict.popitem() # popitem() method to remove last item from dictionary\n",
    "print(thisdict) \n",
    "del thisdict[\"brand\"] # using del keyword to remove  item from dictionary\n",
    "print(thisdict) \n",
    "thisdict.clear() # clear all data from dictionary\n",
    "print(thisdict)"
   ]
  },
  {
   "cell_type": "markdown",
   "metadata": {},
   "source": [
    "### Copy a Dictionary\n",
    "- You cannot copy a dictionary simply by typing dict2 = dict1, because: dict2 will only be a reference to dict1, and changes made in dict1 will automatically also be made in dict2.\n",
    "- Make a copy of a dictionary with the copy() method\n",
    "- Make a copy of a dictionary with the dict() method"
   ]
  },
  {
   "cell_type": "code",
   "execution_count": null,
   "metadata": {},
   "outputs": [],
   "source": [
    " thisdict =\t{\n",
    "  \"brand\": \"Ford\",\n",
    "  \"model\": \"Mustang\",\n",
    "  \"year\": 1964\n",
    "}\n",
    "mydict1 = thisdict.copy()\n",
    "print(mydict1)\n",
    "mydict2=dict(thisdict)\n",
    "print(mydict2)"
   ]
  },
  {
   "cell_type": "markdown",
   "metadata": {},
   "source": [
    "### Nested Dictionaries and The dict() Constructor\n",
    "- A dictionary can also contain many dictionaries, this is called nested dictionaries\n",
    "- It is also possible to use the dict() constructor to make a new dictionary"
   ]
  },
  {
   "cell_type": "code",
   "execution_count": null,
   "metadata": {},
   "outputs": [],
   "source": [
    "myfamily = {\n",
    "  \"child1\" : {\n",
    "    \"name\" : \"Emil\",\n",
    "    \"year\" : 2004\n",
    "  },\n",
    "  \"child2\" : {\n",
    "    \"name\" : \"Tobias\",\n",
    "    \"year\" : 2007\n",
    "  },\n",
    "  \"child3\" : {\n",
    "    \"name\" : \"Linus\",\n",
    "    \"year\" : 2011\n",
    "  }\n",
    "}\n",
    "print(myfamily)"
   ]
  },
  {
   "cell_type": "code",
   "execution_count": null,
   "metadata": {},
   "outputs": [],
   "source": [
    "thisdict = dict(brand=\"Ford\", model=\"Mustang\", year=1964)\n",
    "print(thisdict)"
   ]
  },
  {
   "cell_type": "markdown",
   "metadata": {},
   "source": [
    "## Python Operators\n",
    "Operators are used to perform operations on values and variables. Operators can manipulate individual items and returns a result. The data items are referred as operands or arguments. Operators are either represented by keywords or special characters. For example, for identity operators we use keyword \"is\" and \"is not\". \n",
    "- <b> In this section we will learn</b>\n",
    "    - Arithmetic Operators\n",
    "    - Comparison Operators\n",
    "    - Python Assignment Operators\n",
    "    - Logical Operators or Bitwise Operators\n",
    "    - Membership Operators\n",
    "    - Identity Operators\n",
    "  \n"
   ]
  },
  {
   "cell_type": "markdown",
   "metadata": {},
   "source": [
    "### Arithmetic Operators\n",
    "Arithmetic Operators perform various arithmetic calculations like addition, subtraction, multiplication, division, %modulus, exponent, etc. There are various methods for arithmetic calculation in Python like you can use the eval function, declare variable & calculate, or call functions. "
   ]
  },
  {
   "cell_type": "code",
   "execution_count": null,
   "metadata": {},
   "outputs": [],
   "source": [
    "x= 4\n",
    "y= 5\n",
    "print('addition: '+str(x + y))\n",
    "print('Subtraction: '+str(x-y))\n",
    "print('Multiplication: '+str(x*y))\n",
    "print('Division: '+str(x/y))\n",
    "print('modulus: '+str(x%y))"
   ]
  },
  {
   "cell_type": "markdown",
   "metadata": {},
   "source": [
    "### Comparison Operators\n",
    "These operators compare the values on either side of the operand and determine the relation between them. It is also referred as relational operators. Various comparison operators are ( ==, != , <>, >,<=, etc) "
   ]
  },
  {
   "cell_type": "code",
   "execution_count": null,
   "metadata": {},
   "outputs": [],
   "source": [
    "print(('x > y  is',x>y))\n",
    "print(('x == y  is',x==y))\n",
    "print(('x != y  is',x!=y))"
   ]
  },
  {
   "cell_type": "markdown",
   "metadata": {},
   "source": [
    "### Python Assignment Operators\n",
    "Python assignment operators are used for assigning the value of the right operand to the left operand. Various assignment operators used in Python are (+=, - = , *=, /= , etc.) \n"
   ]
  },
  {
   "cell_type": "code",
   "execution_count": null,
   "metadata": {},
   "outputs": [],
   "source": [
    "x=7\n",
    "x+=1\n",
    "print(x)\n",
    "x-=1\n",
    "print(x)\n",
    "x*=2\n",
    "print(x)"
   ]
  },
  {
   "cell_type": "markdown",
   "metadata": {},
   "source": [
    "### Logical Operators\n",
    "- Logical operators in Python are used for conditional statements are true or false. Logical operators in Python are AND, OR and NOT. For logical operators following condition are applied.\n",
    "    - For AND operator – It returns TRUE if both the operands (right side and left side) are true\n",
    "    - For OR operator- It returns TRUE if either of the operand (right side or left side) is true\n",
    "    - For NOT operator- returns TRUE if operand is false"
   ]
  },
  {
   "cell_type": "code",
   "execution_count": null,
   "metadata": {},
   "outputs": [],
   "source": [
    "a = True\n",
    "b = False\n",
    "print(('a and b is',a and b))\n",
    "print(('a or b is',a or b))\n",
    "print(('not a is',not a))"
   ]
  },
  {
   "cell_type": "markdown",
   "metadata": {},
   "source": [
    "### Membership Operators\n",
    "- These operators test for membership in a sequence such as lists, strings or tuples. There are two membership operators that are used in Python. (in, not in). It gives the result based on the variable present in specified sequence or string "
   ]
  },
  {
   "cell_type": "code",
   "execution_count": null,
   "metadata": {},
   "outputs": [],
   "source": [
    "x = 4\n",
    "y = 8\n",
    "list = [1, 2, 3, 4, 5 ];\n",
    "if ( x in list ):\n",
    "    print(\"Line 1 - x is available in the given list\")\n",
    "else:\n",
    "    print(\"Line 1 - x is not available in the given list\")\n",
    "if ( y not in list ):\n",
    "    print(\"Line 2 - y is not available in the given list\")\n",
    "else:\n",
    "    print(\"Line 2 - y is available in the given list\")"
   ]
  },
  {
   "cell_type": "markdown",
   "metadata": {},
   "source": [
    "### Identity Operators\n",
    "To compare the memory location of two objects, Identity Operators are used. The two identify operators used in Python are (is, is not).\n",
    "- Operator is: It returns true if two variables point the same object and false otherwise\n",
    "- Operator is not: It returns false if two variables point the same object and true otherwise"
   ]
  },
  {
   "cell_type": "code",
   "execution_count": null,
   "metadata": {},
   "outputs": [],
   "source": [
    "x = 20\n",
    "y = 20\n",
    "if ( x is y ): \n",
    "    print(\"x & y  SAME identity\")\n",
    "y=30\n",
    "if ( x is not y ):\n",
    "    print(\"x & y have DIFFERENT identity\")"
   ]
  },
  {
   "cell_type": "markdown",
   "metadata": {},
   "source": [
    "## Python Functions\n",
    "A Function in Python is used to utilize the code in more than one place in a program. It is also called method or procedures. Python provides you many inbuilt functions like print(), but it also gives freedom to create your own functions. \n",
    "- <b>in this section we will learn following topic</b>\n",
    "    -  How to define and call a function in Python\n",
    "    - Significance of Indentation (Space) in Python\n",
    "    - How Function Return Value?\n",
    "    - Arguments in Functions\n",
    "    - lambda function\n"
   ]
  },
  {
   "cell_type": "markdown",
   "metadata": {},
   "source": [
    "### How to define and call a function in Python\n",
    "Function in Python is defined by the \"def \" statement followed by the function name and parentheses ( () ) \n",
    "- <b>There are set of rules in Python to define a function.</b>\n",
    "    - Any args or input parameters should be placed within these parentheses\n",
    "    - The function first statement can be an optional statement- docstring or the documentation string of the function\n",
    "    - The code within every function starts with a colon (:) and should be indented (space)\n",
    "    - The statement return (expression) exits a function, optionally passing back a value to the caller. A return statement with no args is the same as return None."
   ]
  },
  {
   "cell_type": "code",
   "execution_count": 16,
   "metadata": {},
   "outputs": [
    {
     "name": "stdout",
     "output_type": "stream",
     "text": [
      "((1, 2, 3, 4),)\n",
      "<class 'tuple'>\n",
      "Name : ram\n",
      "marks : 100\n",
      "(1, 4, 'python') <class 'tuple'>\n",
      "{'a': 4, 'b': 6, 'planet': 'earth'} <class 'dict'>\n",
      "hello world\n"
     ]
    }
   ],
   "source": [
    "def tuple_arg(*args):\n",
    "    print(args)\n",
    "    print(type(args))\n",
    "tuple_arg((1,2,3,4))\n",
    "def dict_args(**kwargs):\n",
    "    for k,v in kwargs.items():\n",
    "        print(k,':',v)\n",
    "dict_args(Name='ram',marks=100)\n",
    "def my_function(*args, **kwargs):\n",
    "    print(args, type(args))\n",
    "    print(kwargs, type(kwargs))\n",
    "my_function(1, 4, 'python', a=4, b=6, planet='earth')\n",
    "def Func1(): # Define Function\n",
    "    print(\"hello world\")\n",
    "Func1() # function call"
   ]
  },
  {
   "cell_type": "markdown",
   "metadata": {},
   "source": [
    "### Significance of Indentation (Space) in Python\n",
    "Before we get familiarize with Python functions, it is important that we understand the indentation rule to declare Python functions and these rules are applicable to other elements of Python as well like declaring conditions, loops or variable. Python follows a particular style of indentation to define the code, since Python functions don't have any explicit begin or end like curly braces to indicate the start and stop for the function, they have to rely on this indentation. "
   ]
  },
  {
   "cell_type": "code",
   "execution_count": null,
   "metadata": {},
   "outputs": [],
   "source": [
    "def Func1():\n",
    "print(\"hello\") # when print function declare right below the Function it throw Intendation Error\n",
    "Func1()"
   ]
  },
  {
   "cell_type": "markdown",
   "metadata": {},
   "source": [
    "### How Function Return Value?\n",
    "Return command in Python specifies what value to give back to the caller of the function"
   ]
  },
  {
   "cell_type": "code",
   "execution_count": null,
   "metadata": {},
   "outputs": [],
   "source": [
    "def Func1():\n",
    "    return \"hello World\"\n",
    "print(Func1())\n",
    "def Func1(x):\n",
    "    return x*x\n",
    "print(Func1(2))\n",
    "\n",
    "    "
   ]
  },
  {
   "cell_type": "markdown",
   "metadata": {},
   "source": [
    "### Arguments in Functions\n",
    "The argument is a value that is passed to the function when it's called. In other words on the calling side, it is an argument and on the function side it is a parameter. \n",
    "- Arguments are declared in the function definition. While calling the function, you can pass the values for that args\n",
    "-  To declare a default value of an argument, assign it a value at function definition\n"
   ]
  },
  {
   "cell_type": "code",
   "execution_count": null,
   "metadata": {},
   "outputs": [],
   "source": [
    "def Func1(x,y): # define function with argument x and y\n",
    "    z=x*y\n",
    "    return z\n",
    "Func1(2,4) # call function by passing value"
   ]
  },
  {
   "cell_type": "code",
   "execution_count": null,
   "metadata": {},
   "outputs": [],
   "source": [
    "def Func1(x,y=2): # define function with default value\n",
    "    z=x*y\n",
    "    return z\n",
    "Func1(2) # calling function"
   ]
  },
  {
   "cell_type": "markdown",
   "metadata": {},
   "source": [
    "### lambda function\n",
    "Lambdas, also known as anonymous functions, are small, restricted functions which do not need a name (i.e., an identifier).\n",
    "- <b> in this section we will learn following topic.</b>\n",
    "- Lambdas in Python\n",
    "- lambdas in filter()\n",
    "- lambdas in map()\n",
    "- lambdas in reduce() "
   ]
  },
  {
   "cell_type": "markdown",
   "metadata": {},
   "source": [
    "### Lambdas in Python\n",
    "\n",
    "In Python, lambda expressions (or lambda forms) are utilized to construct anonymous functions. To do so, you will use the lambda keyword (just as you use def to define normal functions).\n",
    "\n",
    "Every anonymous function you define in Python will have 3 essential parts:\n",
    "\n",
    "    - The lambda keyword.\n",
    "    - The parameters (or bound variables), and\n",
    "    - The function body.\n",
    "\n",
    "A lambda function can have any number of parameters, but the function body can only contain one expression.\n",
    "\n",
    "Moreover, a lambda is written in a single line of code and can also be invoked immediately. You will see all this in action in the upcoming examples. "
   ]
  },
  {
   "cell_type": "code",
   "execution_count": null,
   "metadata": {},
   "outputs": [],
   "source": [
    "adder = lambda x, y: x + y\n",
    "print (adder (1, 2))\n",
    "string='hello world'\n",
    "(lambda string:print(string))(string)"
   ]
  },
  {
   "cell_type": "markdown",
   "metadata": {},
   "source": [
    "### lambdas in filter()\n",
    "The filter function is used to select some particular elements from a sequence of elements. The sequence can be any iterator like lists, sets, tuples, etc.\n",
    "The elements which will be selected is based on some pre-defined constraint. It takes 2 parameters:\n",
    "   - A function that defines the filtering constraint\n",
    "   - A sequence (any iterator like lists, tuples, etc.)"
   ]
  },
  {
   "cell_type": "code",
   "execution_count": 1,
   "metadata": {},
   "outputs": [
    {
     "name": "stdout",
     "output_type": "stream",
     "text": [
      "[10, 8, 7, 5, 11]\n"
     ]
    }
   ],
   "source": [
    "sequences = [10,2,8,7,5,4,3,11,0, 1]\n",
    "filtered_result = filter (lambda x: x > 4, sequences) \n",
    "print(list(filtered_result))"
   ]
  },
  {
   "cell_type": "markdown",
   "metadata": {},
   "source": [
    "### lambdas in map()\n",
    "the map function is used to apply a particular operation to every element in a sequence. Like filter(), it also takes 2 parameters:\n",
    "-  A function that defines the op to perform on the elements\n",
    "- One or more sequences"
   ]
  },
  {
   "cell_type": "code",
   "execution_count": 2,
   "metadata": {},
   "outputs": [
    {
     "name": "stdout",
     "output_type": "stream",
     "text": [
      "[100, 4, 64, 49, 25, 16, 9, 121, 0, 1]\n"
     ]
    }
   ],
   "source": [
    "sequences = [10,2,8,7,5,4,3,11,0, 1]\n",
    "filtered_result = map (lambda x: x*x, sequences) \n",
    "print(list(filtered_result))\n"
   ]
  },
  {
   "cell_type": "markdown",
   "metadata": {},
   "source": [
    "### lambdas in reduce()\n",
    "The reduce function, like map(), is used to apply an operation to every element in a sequence. However, it differs from the map in its working. These are the steps followed by the reduce() function to compute an output"
   ]
  },
  {
   "cell_type": "code",
   "execution_count": 4,
   "metadata": {},
   "outputs": [
    {
     "name": "stdout",
     "output_type": "stream",
     "text": [
      "120\n"
     ]
    }
   ],
   "source": [
    "from functools import reduce\n",
    "sequences = [1,2,3,4,5]\n",
    "product = reduce (lambda x, y: x*y, sequences)\n",
    "print(product)"
   ]
  },
  {
   "cell_type": "markdown",
   "metadata": {},
   "source": [
    "## Python Fundamentals\n",
    "- Python IF, ELSE, ELIF & Nested IF \n",
    "- Python For & While Loops: Enumerate, Break, Continue Statement\n",
    "- Python OOPs: Class, Object, Inheritance and Constructor "
   ]
  },
  {
   "cell_type": "markdown",
   "metadata": {},
   "source": [
    "### Python IF, ELSE, ELIF, Nested IF & Switch Case Statement\n",
    "Conditional Statement in Python perform different computations or actions depending on whether a specific Boolean constraint evaluates to true or false. Conditional statements are handled by IF statements in Python. \n",
    "- <b> in this section we will learn</b>\n",
    "    -  What is If Statement? How to Use it?\n",
    "    - How to use \"else condition\"\n",
    "    - How to use \"elif\" condition\n",
    "    - How to execute conditional statement with minimal code\n",
    "    - Nested IF Statement\n",
    "\n"
   ]
  },
  {
   "cell_type": "markdown",
   "metadata": {},
   "source": [
    "### What is If Statement? How to Use it?\n",
    "In Python, If Statement is used for decision making. It will run the body of code only when IF statement is true. When you want to justify one condition while the other condition is not true, then you use \"if statement\".\n"
   ]
  },
  {
   "cell_type": "code",
   "execution_count": null,
   "metadata": {},
   "outputs": [],
   "source": [
    "a=8\n",
    "b=5\n",
    "if a>b:\n",
    "    aa=\"a is greater than b\"\n",
    "aa"
   ]
  },
  {
   "cell_type": "markdown",
   "metadata": {},
   "source": [
    "### How to use \"else condition\"\n",
    "The \"else condition\" is usually used when you have to judge one statement on the basis of other. If one condition goes wrong, then there should be another condition that should justify the statement or logic. "
   ]
  },
  {
   "cell_type": "code",
   "execution_count": null,
   "metadata": {},
   "outputs": [],
   "source": [
    "a=5\n",
    "b=7\n",
    "if a>b:\n",
    "    print(\"a is greater than b\")\n",
    "else:\n",
    "    print('b is greater than a')"
   ]
  },
  {
   "cell_type": "markdown",
   "metadata": {},
   "source": [
    "### How to use \"elif\" condition\n",
    "To correct the previous error made by \"else condition\", we can use \"elif\" statement. By using \"elif\" condition, you are telling the program to print out the third condition or possibility when the other condition goes wrong or incorrect. "
   ]
  },
  {
   "cell_type": "code",
   "execution_count": null,
   "metadata": {},
   "outputs": [],
   "source": [
    "a=8\n",
    "b=8\n",
    "if a>b:\n",
    "    print(\"a is greater than b\")\n",
    "elif a==b:\n",
    "    print(\"a and b are equal\")\n",
    "else:\n",
    "    print('b is greater than a')"
   ]
  },
  {
   "cell_type": "markdown",
   "metadata": {},
   "source": [
    "### How to execute conditional statement with minimal code\n",
    "In this step, we will see how we can condense out the conditional statement. Instead of executing code for each condition separately, we can use them with a single code. "
   ]
  },
  {
   "cell_type": "code",
   "execution_count": null,
   "metadata": {},
   "outputs": [],
   "source": [
    "x,y = 10,8\n",
    "st = \"x is less than y\" if (x < y) else \"x is greater than or equal\"\n",
    "print(st)"
   ]
  },
  {
   "cell_type": "markdown",
   "metadata": {},
   "source": [
    "### Nested IF Statement"
   ]
  },
  {
   "cell_type": "code",
   "execution_count": null,
   "metadata": {},
   "outputs": [],
   "source": [
    "country='nepal'\n",
    "total=100\n",
    "\n",
    "if country=='nepal':\n",
    "    if total>=50:\n",
    "        print(\"shipping cost is $10\")\n",
    "elif total<=150:\n",
    "    print('shipping cost is $5')"
   ]
  },
  {
   "cell_type": "markdown",
   "metadata": {},
   "source": [
    "### Python For & While Loops: Enumerate, Break, Continue Statement\n",
    "Loops can execute a block of code number of times until a certain condition is met. Their usage is fairly common in programming. Unlike other programming language that have For Loop, while loop, dowhile, etc. \n",
    "- <b> in this section we will learn following topic.</b>\n",
    "    - How to use \"While Loop\"\n",
    "    - How to use \"For Loop\"\n",
    "    - Break and continue statements in For Loop\n",
    "    - Enumerate function for For Loop\n",
    "    - How to use for loop to repeat the same statement over and again\n"
   ]
  },
  {
   "cell_type": "markdown",
   "metadata": {},
   "source": [
    "### How to use \"While Loop\"\n",
    "While loop does the exactly same thing what \"if statement\" does, but instead of running the code block once, they jump back to the point where it began the code and repeats the whole process again. "
   ]
  },
  {
   "cell_type": "code",
   "execution_count": null,
   "metadata": {},
   "outputs": [],
   "source": [
    "x=0\n",
    "while(x <4):\n",
    "    print(x)\n",
    "    x = x+1"
   ]
  },
  {
   "cell_type": "markdown",
   "metadata": {},
   "source": [
    "### How to use \"For Loop\"\n",
    "In Python, \"for loops\" are called iterators.\n",
    "Just like while loop, \"For Loop\" is also used to repeat the program.\n",
    "But unlike while loop which depends on condition true or false. \"For Loop\" depends on the elements it has to iterate. "
   ]
  },
  {
   "cell_type": "code",
   "execution_count": null,
   "metadata": {},
   "outputs": [],
   "source": [
    "for i in range(10):\n",
    "    print('HELLO')"
   ]
  },
  {
   "cell_type": "markdown",
   "metadata": {},
   "source": [
    "### How to use break and continues statements in For Loop\n",
    "- Breakpoint is a unique function in For Loop that allows you to break or terminate the execution of the for loop \n",
    "- Continue function, as the name indicates, will terminate the current iteration of the for loop BUT will continue execution of the remaining iterations"
   ]
  },
  {
   "cell_type": "code",
   "execution_count": null,
   "metadata": {},
   "outputs": [],
   "source": [
    "for x in range (10,20):\n",
    "    if (x == 14) : \n",
    "        continue\n",
    "    if (x == 18): \n",
    "        break\n",
    "    print(x)"
   ]
  },
  {
   "cell_type": "code",
   "execution_count": null,
   "metadata": {},
   "outputs": [],
   "source": [
    "Months = [\"Jan\",\"Feb\",\"Mar\",\"April\",\"May\",\"June\"]"
   ]
  },
  {
   "cell_type": "markdown",
   "metadata": {},
   "source": [
    "### How to use \"enumerate\" function for \"For Loop\"\n",
    "\n",
    "Enumerate function is used for the numbering or indexing the members in the list.  Enumerate function in \"for loop\" does two things\n",
    "- It returns the index number for the member\n",
    "- And the member of the collection that we are looking at"
   ]
  },
  {
   "cell_type": "code",
   "execution_count": null,
   "metadata": {},
   "outputs": [],
   "source": [
    "for i,m in enumerate(range(10)):\n",
    "    print(i,m)"
   ]
  },
  {
   "cell_type": "markdown",
   "metadata": {},
   "source": [
    "### Python OOPs: Class, Object, Inheritance and Constructor \n",
    "A Class is a logical grouping of data and functions. It gives the freedom to create data structures that contains arbitrary content and hence easily accessible\n",
    "- How to define Python classes\n",
    "- How Inheritance works\n",
    "- Python Constructors "
   ]
  },
  {
   "cell_type": "markdown",
   "metadata": {},
   "source": [
    "### How to define Python classes\n",
    "- In Python, classes are defined by the \"Class\" keyword \n",
    "- Inside classes, you can define functions or methods that are part of this class \n",
    "- To make an object of the class\n",
    "- To call a method in a class "
   ]
  },
  {
   "cell_type": "code",
   "execution_count": 8,
   "metadata": {},
   "outputs": [
    {
     "name": "stdout",
     "output_type": "stream",
     "text": [
      "hello\n",
      "hello world\n"
     ]
    }
   ],
   "source": [
    "class Myclass: # Create class\n",
    "    def Method1(self): # Define Function inside class\n",
    "        print(\"hello\")\n",
    "    def Method2(self,somestring): # Define Second function inside Class\n",
    "        print(somestring)\n",
    "obj=Myclass() # make object of class\n",
    "obj.Method1() # call function of class\n",
    "obj.Method2(\"hello world\")"
   ]
  },
  {
   "cell_type": "markdown",
   "metadata": {},
   "source": [
    "### How Inheritance works"
   ]
  },
  {
   "cell_type": "code",
   "execution_count": 9,
   "metadata": {},
   "outputs": [],
   "source": [
    "class ParentClass:\n",
    "    def ParentFunc(self):\n",
    "        print(\"this is parent function\")\n",
    "class ChildClass(ParentClass):\n",
    "    def ChildFunc(self):\n",
    "        print(\"this is child function\")\n",
    "obj=ChildClass()"
   ]
  },
  {
   "cell_type": "code",
   "execution_count": 12,
   "metadata": {},
   "outputs": [
    {
     "name": "stdout",
     "output_type": "stream",
     "text": [
      "this is parent function\n"
     ]
    }
   ],
   "source": [
    "obj.ParentFunc()"
   ]
  },
  {
   "cell_type": "markdown",
   "metadata": {},
   "source": [
    "### Python Constructors\n",
    "- A constructor is a class function that instantiates an object to predefined values.\n",
    "- It begins with a double underscore (_). It __init__() method\n",
    "- In below example we are taking name of the user using constructor. "
   ]
  },
  {
   "cell_type": "code",
   "execution_count": 18,
   "metadata": {},
   "outputs": [
    {
     "name": "stdout",
     "output_type": "stream",
     "text": [
      "Welcome, sudhan\n"
     ]
    }
   ],
   "source": [
    "class User:\n",
    "    name = \"\"\n",
    "    def __init__(self, name):\n",
    "        self.name = name\n",
    "    def sayHello(self):\n",
    "        print(\"Welcome, \" + self.name)\n",
    "User1 = User(\"sudhan\")\n",
    "User1.sayHello()"
   ]
  },
  {
   "cell_type": "code",
   "execution_count": null,
   "metadata": {},
   "outputs": [],
   "source": []
  }
 ],
 "metadata": {
  "kernelspec": {
   "display_name": "Python 3",
   "language": "python",
   "name": "python3"
  },
  "language_info": {
   "codemirror_mode": {
    "name": "ipython",
    "version": 3
   },
   "file_extension": ".py",
   "mimetype": "text/x-python",
   "name": "python",
   "nbconvert_exporter": "python",
   "pygments_lexer": "ipython3",
   "version": "3.7.4"
  }
 },
 "nbformat": 4,
 "nbformat_minor": 2
}
